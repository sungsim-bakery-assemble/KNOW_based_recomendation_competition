{
 "cells": [
  {
   "cell_type": "markdown",
   "metadata": {},
   "source": [
    "## KNOW 2017 Detail Info\n",
    "\n",
    "### aq \n",
    "+ aq*_1 : 업무에 있어 특정 활동의 중요도 \n",
    "+ aq*_2 : 업무에 있어 특정 활동의 필요 수준\n",
    "\n",
    "### bq\n",
    "직업/직장 관련 질문 \n",
    "(괜찮다고 생각하는 질문도 몇가지 존재, e.g. 산업 유형, 훈련 기간 등)"
   ]
  },
  {
   "cell_type": "markdown",
   "metadata": {},
   "source": [
    "## KNOW 2018 Detail Info\n",
    "\n",
    "### cq\n",
    "+ cq* : 업무 환경 관련 질문\n",
    "+ cq47 : 근무 일정의 규칙성 (보기 3개)\n",
    "+ cq48 : 재택근무 가능 여부 (보기 2개)\n",
    "+ cq50_* : 도구나 기술 사용 여부 (50_* 존재, 보기 3개) # 얘만 꼬리있음\n",
    "\n",
    "### bq\n",
    "직업/직장 관련 질문 "
   ]
  },
  {
   "cell_type": "markdown",
   "metadata": {},
   "source": [
    "## KNOW 2019 Detail Info\n",
    "\n",
    "### sq\n",
    "+ sq* : 업무에서 요구하는 성격\n",
    "\n",
    "### kq\n",
    "+ kq*_1 : 업무에 있어 특정 지식의 중요도 \n",
    "+ kq*_2 : 업무에 있어 특정 지식의 필요 수준\n",
    "\n",
    "### bq\n",
    "직업/직장 관련 질문 "
   ]
  },
  {
   "cell_type": "markdown",
   "metadata": {},
   "source": [
    "## KNOW 2020 Detail Info\n",
    "\n",
    "### sq\n",
    "+ saq*_1 : 업무에 있어 특정 능력의 중요도 \n",
    "+ saq*_2 : 업무에 있어 특정 능력의 필요 수준\n",
    "\n",
    "### vq\n",
    "+ vq* : 직업에 대한 가치관\n",
    "\n",
    "### bq\n",
    "직업/직장 관련 질문 "
   ]
  },
  {
   "cell_type": "markdown",
   "metadata": {},
   "source": [
    "# 결론\n",
    "\n",
    "1. 2018년도 보기 갯수 다른 것 주의하기.\n",
    "2. bq에서 중요하다고 생각하는 문제 뽑아두기."
   ]
  }
 ],
 "metadata": {
  "interpreter": {
   "hash": "6505d05aed1a02a8357042427e672d672d0f5033630a98dbc31e60436a422d37"
  },
  "kernelspec": {
   "display_name": "Python 3.9.6 64-bit ('know': conda)",
   "language": "python",
   "name": "python3"
  },
  "language_info": {
   "codemirror_mode": {
    "name": "ipython",
    "version": 3
   },
   "file_extension": ".py",
   "mimetype": "text/x-python",
   "name": "python",
   "nbconvert_exporter": "python",
   "pygments_lexer": "ipython3",
   "version": "3.9.6"
  },
  "orig_nbformat": 4
 },
 "nbformat": 4,
 "nbformat_minor": 2
}
